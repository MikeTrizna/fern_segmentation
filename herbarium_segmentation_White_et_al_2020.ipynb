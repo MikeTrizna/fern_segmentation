{
 "cells": [
  {
   "cell_type": "markdown",
   "metadata": {},
   "source": [
    "#### Instructions"
   ]
  },
  {
   "cell_type": "markdown",
   "metadata": {},
   "source": [
    "The model can be loaded by first generating a conda environment using the env_for_fern_segmentaion.txt file. Run the following two lines in a terminal first. You must have conda installed. "
   ]
  },
  {
   "cell_type": "code",
   "execution_count": null,
   "metadata": {},
   "outputs": [],
   "source": [
    "# conda create --name herb_segmentation --file env_for_fern_segmentation.txt\n",
    "# conda activate herb_segmentation"
   ]
  },
  {
   "cell_type": "markdown",
   "metadata": {},
   "source": [
    "Note: fastai and pytorch are not simple to install. Be prepared to spend some time getting fastai and pytorch in the right configuration according to the env_for_fern_segmentation.txt specifications. This may include downloading older versions of these libraries, as they are in active development and new versions are released frequently. "
   ]
  },
  {
   "cell_type": "code",
   "execution_count": null,
   "metadata": {},
   "outputs": [],
   "source": [
    "%reload_ext autoreload\n",
    "%autoreload 2\n",
    "%matplotlib inline\n",
    "import shutil\n",
    "from tqdm import tqdm\n",
    "from PIL import Image as image_save\n",
    "import itertools\n",
    "import operator\n",
    "import fastai\n",
    "from fastai import *\n",
    "from fastai.vision import *\n",
    "from fastai.vision.models.wrn import wrn_22\n",
    "import dask.dataframe as dd\n",
    "import functools, traceback\n",
    "from fastai.callbacks.hooks import *\n",
    "from fastai.utils.mem import *"
   ]
  },
  {
   "cell_type": "markdown",
   "metadata": {},
   "source": [
    "## Load the custom classes and the trained model \"fern_segmentation.pkl\""
   ]
  },
  {
   "cell_type": "code",
   "execution_count": null,
   "metadata": {},
   "outputs": [],
   "source": [
    "class SegLabelListCustom(SegmentationLabelList):\n",
    "    def open(self, fn): return open_mask(fn, div=True)\n",
    "    \n",
    "class SegItemListCustom(SegmentationItemList):\n",
    "    _label_cls = SegLabelListCustom"
   ]
  },
  {
   "cell_type": "code",
   "execution_count": null,
   "metadata": {},
   "outputs": [],
   "source": [
    "path_to_pickle = '/this/is/where/i/put/the/fern_segmentation.pkl/file' # MUST CHANGE!"
   ]
  },
  {
   "cell_type": "code",
   "execution_count": null,
   "metadata": {},
   "outputs": [],
   "source": [
    "seg_bot = load_learner(path = path_to_pickle,\n",
    "                      file = 'fern_segmentation.pkl')"
   ]
  },
  {
   "cell_type": "markdown",
   "metadata": {},
   "source": [
    "## Running a single image through"
   ]
  },
  {
   "cell_type": "code",
   "execution_count": null,
   "metadata": {},
   "outputs": [],
   "source": [
    "path_img = Path(\"this/is/a/folder/full/of/images/i/want/to/run/through/the/model/01452951.jpg\") # MUST CHANGE!"
   ]
  },
  {
   "cell_type": "code",
   "execution_count": null,
   "metadata": {},
   "outputs": [],
   "source": [
    "img = open_image(path_img)\n",
    "img_mask_pred = seg_bot.predict(img)"
   ]
  },
  {
   "cell_type": "code",
   "execution_count": null,
   "metadata": {},
   "outputs": [],
   "source": [
    "img_mask_pred"
   ]
  },
  {
   "cell_type": "markdown",
   "metadata": {},
   "source": [
    "## Running a large batch of images through and saving the masked versions"
   ]
  },
  {
   "cell_type": "code",
   "execution_count": null,
   "metadata": {},
   "outputs": [],
   "source": [
    "path_to_images = 'this/is/a/folder/full/of/images/i/want/to/run/through/the/model' # MUST CHANGE!"
   ]
  },
  {
   "cell_type": "code",
   "execution_count": null,
   "metadata": {},
   "outputs": [],
   "source": [
    "data_test = (ImageList.from_folder(path = path_to_images, \n",
    "                                        extensions = \".jpg\")\n",
    "             .split_none()\n",
    "             .label_empty()).transform(tfms=None, size=256).databunch(bs=64).normalize(imagenet_stats)"
   ]
  },
  {
   "cell_type": "code",
   "execution_count": null,
   "metadata": {},
   "outputs": [],
   "source": [
    "bs = 64 # could change this is you are having issues with memory\n",
    "seg_bot.data.test_dl = data_test.fix_dl"
   ]
  },
  {
   "cell_type": "code",
   "execution_count": null,
   "metadata": {},
   "outputs": [],
   "source": [
    "number_of_batches = int(len(seg_bot.data.test_ds)/bs)"
   ]
  },
  {
   "cell_type": "code",
   "execution_count": null,
   "metadata": {},
   "outputs": [],
   "source": [
    "path_to_save_masked_images = \"this/is/a/folder/where/i/want/to/save/masked/images\" # MUST CHANGE!"
   ]
  },
  {
   "cell_type": "code",
   "execution_count": null,
   "metadata": {},
   "outputs": [],
   "source": [
    "test_batch_iter = iter(seg_bot.data.test_dl)\n",
    "test_filenames_iter = iter(seg_bot.data.test_ds.items)\n",
    "test_images_iter = iter(seg_bot.data.test_ds)\n",
    "\n",
    "for n in tqdm(range(number_of_batches)):\n",
    "    batch = next(test_batch_iter)\n",
    "    preds_tup = seg_bot.pred_batch(batch=batch)\n",
    "    pred_masks = np.argmax(preds_tup, axis = 1)\n",
    "    pred_names = array(itertools.islice(test_filenames_iter, bs))\n",
    "    orig_images = array(itertools.islice(test_images_iter, bs))\n",
    "    for z in range(bs):\n",
    "        #print(pred_names[z].parts[-1] + \" being masked and output to masked_\" + pred_names[z].parts[-1])\n",
    "        orig_loaded_img = orig_images[z][0].data\n",
    "        pred_mask = pred_masks[z].unsqueeze(0).double()\n",
    "        masked = orig_loaded_img.cpu().double() * pred_mask\n",
    "        mask2 = masked.data.permute(1, 2, 0)\n",
    "        ndarr = mask2.mul_(255).add_(0.5).clamp_(0, 255).to('cpu', torch.uint8).numpy()\n",
    "        im = image_save.fromarray(ndarr)\n",
    "        im.save(path_to_save_masked_images+\"/masked_\"+pred_names[z].parts[-1])"
   ]
  }
 ],
 "metadata": {
  "kernelspec": {
   "display_name": "Python 3",
   "language": "python",
   "name": "python3"
  },
  "language_info": {
   "codemirror_mode": {
    "name": "ipython",
    "version": 3
   },
   "file_extension": ".py",
   "mimetype": "text/x-python",
   "name": "python",
   "nbconvert_exporter": "python",
   "pygments_lexer": "ipython3",
   "version": "3.7.3"
  }
 },
 "nbformat": 4,
 "nbformat_minor": 2
}
