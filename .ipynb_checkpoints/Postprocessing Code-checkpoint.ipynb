{
 "cells": [
  {
   "cell_type": "markdown",
   "metadata": {},
   "source": [
    "# Postprocessing Code\n",
    "\n",
    "The following code corrects for the gray pixels introduced during Photoshop editing.\n",
    "\n",
    "Overview: We removed any gray pixels using the PlantCV's binary tool, then we removed any pixels that were likely to be out of place (e.g. specks of black within surrounded by white on the plant) using the blur tool. The resulting images are completely black and white and are ready to be used in the u-net.\n",
    "\n",
    "Our procedures:"
   ]
  },
  {
   "cell_type": "markdown",
   "metadata": {},
   "source": [
    "We used the following libraries:"
   ]
  },
  {
   "cell_type": "code",
   "execution_count": 18,
   "metadata": {},
   "outputs": [],
   "source": [
    "from PIL import Image\n",
    "from plantcv import plantcv as pcv"
   ]
  },
  {
   "cell_type": "markdown",
   "metadata": {},
   "source": [
    "We applied the binary function to convert every pixel to black or to white. This removes the gray pixels caused by the Photoshop tools we used to manually edit the masks. We then applied the blur function to remove any pixels that may have been converted to either black or white by the binarize function but that are surrounded by pixels of the other color (e.g. if binarize turned a gray pixel into a white pixel, but that white pixel is completely surrounded by black pixels, blur removes this pixel by factoring in its surrounding pixels). Thus, we are left with every pixel being either black or white and maintaining the mask over the plant material."
   ]
  },
  {
   "cell_type": "markdown",
   "metadata": {},
   "source": [
    "We applied this binarize-blur combination to the images three times, varying the parameters for the binary function each time. We then manually selected the best of the three images to be included in the final data set."
   ]
  },
  {
   "cell_type": "markdown",
   "metadata": {},
   "source": [
    "The below kernel uses a binary threshold of 30."
   ]
  },
  {
   "cell_type": "code",
   "execution_count": 39,
   "metadata": {},
   "outputs": [],
   "source": [
    "file = \"example.jpg\"\n",
    "pc_mask, path_mask, filename_mask = pcv.readimage(file,\"native\")\n",
    "filePrefix=file[:7]\n",
    "\n",
    "s_thresh = pcv.threshold.binary(pc_mask, 30, 255, 'light')\n",
    "s_mblur = pcv.median_blur(s_thresh, 5)\n",
    "\n",
    "image = Image.fromarray(s_mblur)\n",
    "image.save(filePrefix + \"_edited_pcv.jpg\",\"JPEG\")"
   ]
  },
  {
   "cell_type": "markdown",
   "metadata": {},
   "source": [
    "The below kernel uses a binary threshold of 50."
   ]
  },
  {
   "cell_type": "code",
   "execution_count": 40,
   "metadata": {},
   "outputs": [],
   "source": [
    "file = \"example.jpg\"\n",
    "pc_mask, path_mask, filename_mask = pcv.readimage(file,\"native\")\n",
    "filePrefix=file[:7]\n",
    "\n",
    "s_thresh = pcv.threshold.binary(pc_mask, 50, 255, 'light')\n",
    "s_mblur = pcv.median_blur(s_thresh, 5)\n",
    "\n",
    "image = Image.fromarray(s_mblur)\n",
    "image.save(filePrefix + \"_edited_pcv_1.jpg\",\"JPEG\")"
   ]
  },
  {
   "cell_type": "markdown",
   "metadata": {},
   "source": [
    "The below kernel uses a binary threshold of 70."
   ]
  },
  {
   "cell_type": "code",
   "execution_count": 38,
   "metadata": {},
   "outputs": [],
   "source": [
    "file = \"example.jpg\"\n",
    "pc_mask, path_mask, filename_mask = pcv.readimage(file,\"native\")\n",
    "filePrefix=file[:7]\n",
    "\n",
    "s_thresh = pcv.threshold.binary(pc_mask, 70, 255, 'light')\n",
    "s_mblur = pcv.median_blur(s_thresh, 5)\n",
    "\n",
    "image = Image.fromarray(s_mblur)\n",
    "image.save(filePrefix + \"_edited_pcv_2.jpg\",\"JPEG\")"
   ]
  },
  {
   "cell_type": "markdown",
   "metadata": {},
   "source": [
    "The images are now ready to run through a u-net!"
   ]
  }
 ],
 "metadata": {
  "kernelspec": {
   "display_name": "Python 3",
   "language": "python",
   "name": "python3"
  },
  "language_info": {
   "codemirror_mode": {
    "name": "ipython",
    "version": 3
   },
   "file_extension": ".py",
   "mimetype": "text/x-python",
   "name": "python",
   "nbconvert_exporter": "python",
   "pygments_lexer": "ipython3",
   "version": "3.6.8"
  }
 },
 "nbformat": 4,
 "nbformat_minor": 2
}
